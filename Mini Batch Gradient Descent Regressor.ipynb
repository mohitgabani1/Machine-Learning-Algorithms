{
 "cells": [
  {
   "cell_type": "code",
   "execution_count": 1,
   "id": "954e6db5",
   "metadata": {},
   "outputs": [],
   "source": [
    "import numpy as np\n",
    "import pandas as pd\n",
    "import matplotlib.pyplot as plt\n",
    "import seaborn as sns\n",
    "import random"
   ]
  },
  {
   "cell_type": "code",
   "execution_count": 2,
   "id": "e1a6cab4",
   "metadata": {},
   "outputs": [],
   "source": [
    "from sklearn.datasets import load_diabetes"
   ]
  },
  {
   "cell_type": "code",
   "execution_count": 3,
   "id": "1f47ad15",
   "metadata": {},
   "outputs": [],
   "source": [
    "X, y = load_diabetes(return_X_y = True)"
   ]
  },
  {
   "cell_type": "markdown",
   "id": "c5dfc57b",
   "metadata": {},
   "source": [
    "#### GDMLR: "
   ]
  },
  {
   "cell_type": "code",
   "execution_count": 4,
   "id": "1efb5eec",
   "metadata": {},
   "outputs": [],
   "source": [
    "from sklearn.linear_model import LinearRegression\n",
    "from sklearn.model_selection import train_test_split"
   ]
  },
  {
   "cell_type": "code",
   "execution_count": 5,
   "id": "fef59c2b",
   "metadata": {},
   "outputs": [],
   "source": [
    "x_train, x_test, y_train, y_test = train_test_split(X,y,test_size=0.2, random_state=2)"
   ]
  },
  {
   "cell_type": "code",
   "execution_count": 6,
   "id": "508ac7ac",
   "metadata": {},
   "outputs": [],
   "source": [
    "lr = LinearRegression()"
   ]
  },
  {
   "cell_type": "code",
   "execution_count": 7,
   "id": "6c1ffac9",
   "metadata": {},
   "outputs": [],
   "source": [
    "lr.fit(x_train, y_train)\n",
    "y_pred = lr.predict(x_test)"
   ]
  },
  {
   "cell_type": "code",
   "execution_count": 8,
   "id": "bd849d1d",
   "metadata": {},
   "outputs": [
    {
     "name": "stdout",
     "output_type": "stream",
     "text": [
      "[  -9.16088483 -205.46225988  516.68462383  340.62734108 -895.54360867\n",
      "  561.21453306  153.88478595  126.73431596  861.12139955   52.41982836] 151.88334520854633\n"
     ]
    }
   ],
   "source": [
    "print(lr.coef_, lr.intercept_)"
   ]
  },
  {
   "cell_type": "code",
   "execution_count": 9,
   "id": "f8c0a697",
   "metadata": {},
   "outputs": [
    {
     "name": "stdout",
     "output_type": "stream",
     "text": [
      "r2 score: 0.4399387660024645\n"
     ]
    }
   ],
   "source": [
    "from sklearn.metrics import r2_score\n",
    "\n",
    "print(\"r2 score:\", r2_score(y_test,y_pred))"
   ]
  },
  {
   "cell_type": "markdown",
   "id": "0ddd1c73",
   "metadata": {},
   "source": [
    "#### MBGD ML Reg: "
   ]
  },
  {
   "cell_type": "code",
   "execution_count": 10,
   "id": "649fdfb0",
   "metadata": {},
   "outputs": [],
   "source": [
    "class MBGDmlr:\n",
    "    \n",
    "    def __init__(self,learning_rate, epochs, batch_size):\n",
    "        \n",
    "        self.lr = learning_rate\n",
    "        self.epochs = epochs\n",
    "        self.coeff = None\n",
    "        self.intercept = None\n",
    "        self.batch_size = batch_size\n",
    "        \n",
    "    def fit(self, x_train, y_train):\n",
    "        \n",
    "        self.intercept = 0\n",
    "        self.coeff = np.ones(x_train.shape[1])\n",
    "        \n",
    "        for i in range(self.epochs):\n",
    "            \n",
    "            for j in range(int(x_train.shape[0]/self.batch_size)):\n",
    "                \n",
    "                # generating random number for picking up random row\n",
    "                idx = random.sample(range(x_train.shape[0]),self.batch_size)\n",
    "                # updating the value of intercept\n",
    "                y_hat = np.dot(x_train[idx],self.coeff) + self.intercept\n",
    "                intercept_der = -2*np.sum(y_train[idx] - y_hat)\n",
    "                self.intercept = self.intercept - self.lr*intercept_der\n",
    "                \n",
    "                # updating the value of coefficients:\n",
    "                coeff_der = -2*np.dot(np.transpose(y_train[idx] - y_hat),x_train[idx])\n",
    "                self.coeff = self.coeff - self.lr*coeff_der\n",
    "\n",
    "        print(self.intercept, self.coeff)\n",
    "\n",
    "    def predict(self, x_test):\n",
    "        return self.intercept + np.dot(x_test,self.coeff)"
   ]
  },
  {
   "cell_type": "code",
   "execution_count": 11,
   "id": "661cd753",
   "metadata": {},
   "outputs": [],
   "source": [
    "mbgd = MBGDmlr(0.01, 100, int(x_train.shape[0]/50))"
   ]
  },
  {
   "cell_type": "code",
   "execution_count": 12,
   "id": "fae35ac3",
   "metadata": {},
   "outputs": [
    {
     "name": "stdout",
     "output_type": "stream",
     "text": [
      "153.6614942526488 [  44.21550035 -136.57100506  442.79877663  312.83765766  -16.70501208\n",
      "  -87.53072442 -188.90735173  112.25591424  409.71662384  110.77852037]\n"
     ]
    }
   ],
   "source": [
    "mbgd.fit(x_train, y_train) "
   ]
  },
  {
   "cell_type": "code",
   "execution_count": 13,
   "id": "350f7ebd",
   "metadata": {},
   "outputs": [],
   "source": [
    "y_pred_mbgd = mbgd.predict(x_test)"
   ]
  },
  {
   "cell_type": "code",
   "execution_count": 14,
   "id": "a564ba5d",
   "metadata": {},
   "outputs": [
    {
     "data": {
      "text/plain": [
       "0.44945779932848096"
      ]
     },
     "execution_count": 14,
     "metadata": {},
     "output_type": "execute_result"
    }
   ],
   "source": [
    "r2_score(y_test, y_pred_mbgd)"
   ]
  },
  {
   "cell_type": "markdown",
   "id": "09542cf6",
   "metadata": {},
   "source": [
    "#### Mini Batch Gradient Descent In Scikit-Learn: "
   ]
  },
  {
   "cell_type": "code",
   "execution_count": 15,
   "id": "d0f5ffd6",
   "metadata": {},
   "outputs": [],
   "source": [
    "from sklearn.linear_model import SGDRegressor"
   ]
  },
  {
   "cell_type": "code",
   "execution_count": 16,
   "id": "d5fea0dc",
   "metadata": {},
   "outputs": [],
   "source": [
    "sgd = SGDRegressor(learning_rate='constant',eta0=0.1)"
   ]
  },
  {
   "cell_type": "code",
   "execution_count": 17,
   "id": "6dfeabcf",
   "metadata": {},
   "outputs": [],
   "source": [
    "# Jugad for scikit-learn: can use partial fit\n",
    "\n",
    "batch_size = 35\n",
    "\n",
    "for i in range(100):\n",
    "    \n",
    "    idx = random.sample(range(x_train.shape[0]),batch_size)\n",
    "    sgd.partial_fit(x_train[idx],y_train[idx])"
   ]
  },
  {
   "cell_type": "code",
   "execution_count": 18,
   "id": "aa0d15f3",
   "metadata": {},
   "outputs": [
    {
     "data": {
      "text/plain": [
       "array([  61.94505701,  -60.9803879 ,  344.91080285,  247.00367942,\n",
       "         11.36159945,  -38.02061297, -175.09615553,  127.25611187,\n",
       "        324.29900995,  127.71042916])"
      ]
     },
     "execution_count": 18,
     "metadata": {},
     "output_type": "execute_result"
    }
   ],
   "source": [
    "sgd.coef_"
   ]
  },
  {
   "cell_type": "code",
   "execution_count": 19,
   "id": "89b69499",
   "metadata": {},
   "outputs": [
    {
     "data": {
      "text/plain": [
       "array([150.80297577])"
      ]
     },
     "execution_count": 19,
     "metadata": {},
     "output_type": "execute_result"
    }
   ],
   "source": [
    "sgd.intercept_"
   ]
  },
  {
   "cell_type": "code",
   "execution_count": 20,
   "id": "6dc76d39",
   "metadata": {},
   "outputs": [],
   "source": [
    "y_pred_sgd = sgd.predict(x_test)"
   ]
  },
  {
   "cell_type": "code",
   "execution_count": 21,
   "id": "09b94b8f",
   "metadata": {},
   "outputs": [
    {
     "data": {
      "text/plain": [
       "0.4318037214733419"
      ]
     },
     "execution_count": 21,
     "metadata": {},
     "output_type": "execute_result"
    }
   ],
   "source": [
    "r2_score(y_test,y_pred_sgd)"
   ]
  }
 ],
 "metadata": {
  "kernelspec": {
   "display_name": "Python 3 (ipykernel)",
   "language": "python",
   "name": "python3"
  },
  "language_info": {
   "codemirror_mode": {
    "name": "ipython",
    "version": 3
   },
   "file_extension": ".py",
   "mimetype": "text/x-python",
   "name": "python",
   "nbconvert_exporter": "python",
   "pygments_lexer": "ipython3",
   "version": "3.9.12"
  }
 },
 "nbformat": 4,
 "nbformat_minor": 5
}
