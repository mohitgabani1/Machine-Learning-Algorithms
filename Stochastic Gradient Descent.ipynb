{
 "cells": [
  {
   "cell_type": "code",
   "execution_count": 1,
   "id": "4e8fca1a",
   "metadata": {},
   "outputs": [],
   "source": [
    "import numpy as np\n",
    "import pandas as pd\n",
    "import matplotlib.pyplot as plt\n",
    "import seaborn as sns\n",
    "from sklearn.datasets import load_diabetes\n",
    "from datetime import *"
   ]
  },
  {
   "cell_type": "code",
   "execution_count": 2,
   "id": "67f41f8a",
   "metadata": {},
   "outputs": [],
   "source": [
    "X, y = load_diabetes(return_X_y = True)"
   ]
  },
  {
   "cell_type": "code",
   "execution_count": 3,
   "id": "fef2b1b2",
   "metadata": {},
   "outputs": [],
   "source": [
    "from sklearn.model_selection import train_test_split\n",
    "X_train, X_test, y_train, y_test = train_test_split(X, y, test_size = 0.2, random_state = 2)"
   ]
  },
  {
   "cell_type": "code",
   "execution_count": 4,
   "id": "4b8650d6",
   "metadata": {},
   "outputs": [
    {
     "data": {
      "text/plain": [
       "(353, 10)"
      ]
     },
     "execution_count": 4,
     "metadata": {},
     "output_type": "execute_result"
    }
   ],
   "source": [
    "X_train.shape"
   ]
  },
  {
   "cell_type": "markdown",
   "id": "e2ff1061",
   "metadata": {},
   "source": [
    "#### Linear Regression: "
   ]
  },
  {
   "cell_type": "code",
   "execution_count": 5,
   "id": "4df8a20d",
   "metadata": {},
   "outputs": [],
   "source": [
    "from sklearn.linear_model import LinearRegression"
   ]
  },
  {
   "cell_type": "code",
   "execution_count": 6,
   "id": "4864065d",
   "metadata": {},
   "outputs": [],
   "source": [
    "lr = LinearRegression()"
   ]
  },
  {
   "cell_type": "code",
   "execution_count": 7,
   "id": "73587221",
   "metadata": {},
   "outputs": [
    {
     "data": {
      "text/plain": [
       "LinearRegression()"
      ]
     },
     "execution_count": 7,
     "metadata": {},
     "output_type": "execute_result"
    }
   ],
   "source": [
    "lr.fit(X_train, y_train)"
   ]
  },
  {
   "cell_type": "code",
   "execution_count": 8,
   "id": "7a3729ed",
   "metadata": {},
   "outputs": [],
   "source": [
    "y_pred_lr = lr.predict(X_test)"
   ]
  },
  {
   "cell_type": "code",
   "execution_count": 9,
   "id": "3cdffc71",
   "metadata": {},
   "outputs": [
    {
     "data": {
      "text/plain": [
       "array([  -9.16088483, -205.46225988,  516.68462383,  340.62734108,\n",
       "       -895.54360867,  561.21453306,  153.88478595,  126.73431596,\n",
       "        861.12139955,   52.41982836])"
      ]
     },
     "execution_count": 9,
     "metadata": {},
     "output_type": "execute_result"
    }
   ],
   "source": [
    "lr.coef_"
   ]
  },
  {
   "cell_type": "code",
   "execution_count": 10,
   "id": "8d115ab3",
   "metadata": {},
   "outputs": [
    {
     "data": {
      "text/plain": [
       "151.88334520854633"
      ]
     },
     "execution_count": 10,
     "metadata": {},
     "output_type": "execute_result"
    }
   ],
   "source": [
    "lr.intercept_"
   ]
  },
  {
   "cell_type": "code",
   "execution_count": 11,
   "id": "6aecc2a5",
   "metadata": {},
   "outputs": [
    {
     "data": {
      "text/plain": [
       "0.4399387660024645"
      ]
     },
     "execution_count": 11,
     "metadata": {},
     "output_type": "execute_result"
    }
   ],
   "source": [
    "from sklearn.metrics import r2_score\n",
    "r2_score(y_test, y_pred_lr)"
   ]
  },
  {
   "cell_type": "markdown",
   "id": "c47db94b",
   "metadata": {},
   "source": [
    "#### Stochastic Gradient Descent Regressor: scikit learn "
   ]
  },
  {
   "cell_type": "code",
   "execution_count": 12,
   "id": "5d873420",
   "metadata": {},
   "outputs": [],
   "source": [
    "from sklearn.linear_model import SGDRegressor"
   ]
  },
  {
   "cell_type": "code",
   "execution_count": 13,
   "id": "23a350ec",
   "metadata": {},
   "outputs": [],
   "source": [
    "sgd = SGDRegressor(max_iter = 1000, learning_rate = 'constant',eta0=0.1)"
   ]
  },
  {
   "cell_type": "code",
   "execution_count": 14,
   "id": "f3a87421",
   "metadata": {},
   "outputs": [
    {
     "data": {
      "text/plain": [
       "SGDRegressor(eta0=0.1, learning_rate='constant')"
      ]
     },
     "execution_count": 14,
     "metadata": {},
     "output_type": "execute_result"
    }
   ],
   "source": [
    "sgd.fit(X_train, y_train)"
   ]
  },
  {
   "cell_type": "code",
   "execution_count": 15,
   "id": "d1d2d045",
   "metadata": {},
   "outputs": [],
   "source": [
    "y_pred = sgd.predict(X_test)"
   ]
  },
  {
   "cell_type": "code",
   "execution_count": 16,
   "id": "5e1717df",
   "metadata": {},
   "outputs": [
    {
     "data": {
      "text/plain": [
       "(89,)"
      ]
     },
     "execution_count": 16,
     "metadata": {},
     "output_type": "execute_result"
    }
   ],
   "source": [
    "y_pred.shape"
   ]
  },
  {
   "cell_type": "code",
   "execution_count": 17,
   "id": "b26b4d1b",
   "metadata": {
    "scrolled": true
   },
   "outputs": [
    {
     "data": {
      "text/plain": [
       "array([   7.86665351, -183.81873162,  498.11140686,  323.15813529,\n",
       "        -45.00878032, -118.42083277, -194.97564365,   97.91090681,\n",
       "        462.76289278,   87.90484221])"
      ]
     },
     "execution_count": 17,
     "metadata": {},
     "output_type": "execute_result"
    }
   ],
   "source": [
    "sgd.coef_"
   ]
  },
  {
   "cell_type": "code",
   "execution_count": 18,
   "id": "5ff4f0c6",
   "metadata": {},
   "outputs": [
    {
     "data": {
      "text/plain": [
       "array([148.93617659])"
      ]
     },
     "execution_count": 18,
     "metadata": {},
     "output_type": "execute_result"
    }
   ],
   "source": [
    "sgd.intercept_"
   ]
  },
  {
   "cell_type": "code",
   "execution_count": 19,
   "id": "2166c150",
   "metadata": {},
   "outputs": [
    {
     "name": "stdout",
     "output_type": "stream",
     "text": [
      "r2 score: 0.4514941112706842\n"
     ]
    }
   ],
   "source": [
    "print('r2 score:', r2_score(y_test,y_pred))"
   ]
  },
  {
   "cell_type": "markdown",
   "id": "c1425407",
   "metadata": {},
   "source": [
    "#### Stochastic Gradient Descent Class: "
   ]
  },
  {
   "cell_type": "code",
   "execution_count": 20,
   "id": "35b6307e",
   "metadata": {},
   "outputs": [],
   "source": [
    "class SGDregressor:\n",
    "    \n",
    "    def __init__(self,learning_rate, epochs):\n",
    "        \n",
    "        self.lr = learning_rate\n",
    "        self.epochs = epochs\n",
    "        self.intercept = None\n",
    "        self.coeff = None\n",
    "        \n",
    "    def fit(self, x_train, y_train):\n",
    "        \n",
    "        # defining initial value of intercept and coefficients\n",
    "        self.intercept = 0\n",
    "        self.coeff = np.ones(x_train.shape[1])\n",
    "        \n",
    "        for i in range(self.epochs):\n",
    "            \n",
    "            for j in range(x_train.shape[0]):\n",
    "\n",
    "                # generating random number for picking up random row\n",
    "                idx = np.random.randint(0, x_train.shape[0])\n",
    "                \n",
    "                # updating the value of intercept\n",
    "                y_hat = np.dot(x_train[idx],self.coeff) + self.intercept\n",
    "                intercept_der = -2*np.sum(y_train[idx] - y_hat)\n",
    "                self.intercept = self.intercept - self.lr*intercept_der\n",
    "\n",
    "                # updating the value of coefficients:\n",
    "                coeff_der = -2*np.dot(np.transpose(y_train[idx] - y_hat),x_train[idx])\n",
    "                self.coeff = self.coeff - self.lr*coeff_der\n",
    "\n",
    "        print(self.intercept, self.coeff)\n",
    "        \n",
    "    def predict(self, x_test):\n",
    "        return np.dot(x_test, self.coeff) + self.intercept\n",
    "    "
   ]
  },
  {
   "cell_type": "code",
   "execution_count": 21,
   "id": "4d4dd381",
   "metadata": {},
   "outputs": [],
   "source": [
    "sgd_class = SGDregressor(0.01,100)"
   ]
  },
  {
   "cell_type": "code",
   "execution_count": 22,
   "id": "997f4aea",
   "metadata": {},
   "outputs": [
    {
     "name": "stdout",
     "output_type": "stream",
     "text": [
      "158.51932729773688 [  26.39725079 -138.17614314  453.94576528  299.15040924  -21.28549115\n",
      "  -89.57205942 -187.59123968  116.40213869  401.61563581  111.82653191]\n",
      "time taken 0:00:01.365594\n"
     ]
    }
   ],
   "source": [
    "start = datetime.now()\n",
    "sgd_class.fit(X_train, y_train)\n",
    "print('time taken', datetime.now() - start)"
   ]
  },
  {
   "cell_type": "code",
   "execution_count": 23,
   "id": "5ebb9482",
   "metadata": {},
   "outputs": [],
   "source": [
    "y_pred_sgd_class = sgd_class.predict(X_test) "
   ]
  },
  {
   "cell_type": "code",
   "execution_count": 24,
   "id": "27e59e87",
   "metadata": {},
   "outputs": [
    {
     "data": {
      "text/plain": [
       "0.4474648817407595"
      ]
     },
     "execution_count": 24,
     "metadata": {},
     "output_type": "execute_result"
    }
   ],
   "source": [
    "r2_score(y_test, y_pred_sgd_class)"
   ]
  }
 ],
 "metadata": {
  "kernelspec": {
   "display_name": "Python 3 (ipykernel)",
   "language": "python",
   "name": "python3"
  },
  "language_info": {
   "codemirror_mode": {
    "name": "ipython",
    "version": 3
   },
   "file_extension": ".py",
   "mimetype": "text/x-python",
   "name": "python",
   "nbconvert_exporter": "python",
   "pygments_lexer": "ipython3",
   "version": "3.9.12"
  }
 },
 "nbformat": 4,
 "nbformat_minor": 5
}
