{
 "cells": [
  {
   "cell_type": "code",
   "execution_count": 1,
   "id": "339d9892",
   "metadata": {},
   "outputs": [],
   "source": [
    "import numpy as np\n",
    "import pandas as pd\n",
    "import matplotlib.pyplot as plt\n",
    "import seaborn as sns"
   ]
  },
  {
   "cell_type": "code",
   "execution_count": 2,
   "id": "095d792a",
   "metadata": {},
   "outputs": [],
   "source": [
    "# generated random dataset\n",
    "# in algorithm cann't enter 1-D data so reshape it atleat 2-D data\n",
    "\n",
    "import random\n",
    "random.seed(12)\n",
    "m = 5\n",
    "b = 1\n",
    "x = np.arange(1,5,0.07).reshape(-1,1)\n",
    "y = m*x + b + np.random.randn(x.shape[0]).reshape(-1,1)"
   ]
  },
  {
   "cell_type": "markdown",
   "id": "64befe76",
   "metadata": {},
   "source": [
    "#### Simple Linear Regression: "
   ]
  },
  {
   "cell_type": "code",
   "execution_count": 3,
   "id": "e5d16866",
   "metadata": {},
   "outputs": [],
   "source": [
    "from sklearn.linear_model import LinearRegression\n",
    "from sklearn.model_selection import train_test_split\n",
    "from sklearn.metrics import r2_score"
   ]
  },
  {
   "cell_type": "code",
   "execution_count": 4,
   "id": "d0ac97bd",
   "metadata": {},
   "outputs": [],
   "source": [
    "x_train, x_test, y_train, y_test = train_test_split(x,y,test_size=0.3, random_state=2)"
   ]
  },
  {
   "cell_type": "code",
   "execution_count": 5,
   "id": "8a04e7ae",
   "metadata": {},
   "outputs": [],
   "source": [
    "lr = LinearRegression()"
   ]
  },
  {
   "cell_type": "code",
   "execution_count": 6,
   "id": "d1503247",
   "metadata": {},
   "outputs": [
    {
     "data": {
      "text/plain": [
       "LinearRegression()"
      ]
     },
     "execution_count": 6,
     "metadata": {},
     "output_type": "execute_result"
    }
   ],
   "source": [
    "lr.fit(x_train,y_train)"
   ]
  },
  {
   "cell_type": "code",
   "execution_count": 7,
   "id": "60fb6e3f",
   "metadata": {},
   "outputs": [
    {
     "name": "stdout",
     "output_type": "stream",
     "text": [
      "b: [0.76885138]\n"
     ]
    }
   ],
   "source": [
    "print(\"b:\",lr.intercept_)"
   ]
  },
  {
   "cell_type": "code",
   "execution_count": 8,
   "id": "f457a040",
   "metadata": {},
   "outputs": [
    {
     "name": "stdout",
     "output_type": "stream",
     "text": [
      "m: [[5.04265069]]\n"
     ]
    }
   ],
   "source": [
    "print(\"m:\",lr.coef_)"
   ]
  },
  {
   "cell_type": "code",
   "execution_count": 9,
   "id": "a53c5c11",
   "metadata": {},
   "outputs": [
    {
     "name": "stdout",
     "output_type": "stream",
     "text": [
      "r2 score: 0.9611993663498664\n"
     ]
    }
   ],
   "source": [
    "print(\"r2 score:\", r2_score(y_test,lr.predict(x_test)))"
   ]
  },
  {
   "cell_type": "markdown",
   "id": "df82468e",
   "metadata": {},
   "source": [
    "### Gradient Descent Class:"
   ]
  },
  {
   "cell_type": "markdown",
   "id": "48b0a44c",
   "metadata": {},
   "source": [
    "#### m constant and b varying: "
   ]
  },
  {
   "cell_type": "code",
   "execution_count": 10,
   "id": "496e0ddd",
   "metadata": {},
   "outputs": [],
   "source": [
    "class GD:\n",
    "    \n",
    "    def __init__(self, learning_rate, epochs):\n",
    "        self.b = 10\n",
    "        self.m = lr.coef_\n",
    "        self.lr = learning_rate\n",
    "        self.epochs = epochs\n",
    "        \n",
    "    def fit(self, x_train, y_train):\n",
    "        \n",
    "        for i in range(self.epochs):\n",
    "            b_slope = -2*np.sum(y_train - self.m*x_train - self.b)\n",
    "            self.b = self.b - self.lr*b_slope\n",
    "        print(\"b:\",self.b)\n",
    "    def predict(self, x_test):\n",
    "        return self.m*x_test + self.b"
   ]
  },
  {
   "cell_type": "code",
   "execution_count": 11,
   "id": "920e3bb9",
   "metadata": {},
   "outputs": [],
   "source": [
    "gdr = GD(0.01, 10)"
   ]
  },
  {
   "cell_type": "code",
   "execution_count": 12,
   "id": "516aab8e",
   "metadata": {},
   "outputs": [
    {
     "name": "stdout",
     "output_type": "stream",
     "text": [
      "b: 0.7688523280124044\n"
     ]
    }
   ],
   "source": [
    "gdr.fit(x_train, y_train)"
   ]
  },
  {
   "cell_type": "code",
   "execution_count": 13,
   "id": "fb8edb09",
   "metadata": {},
   "outputs": [],
   "source": [
    "y_predict = gdr.predict(x_test)"
   ]
  },
  {
   "cell_type": "code",
   "execution_count": 14,
   "id": "3ef1c5d2",
   "metadata": {},
   "outputs": [
    {
     "name": "stdout",
     "output_type": "stream",
     "text": [
      "r2 score: 0.9611993810566198\n"
     ]
    }
   ],
   "source": [
    "from sklearn.metrics import r2_score\n",
    "\n",
    "print(\"r2 score:\", r2_score(y_test, y_predict))"
   ]
  },
  {
   "cell_type": "markdown",
   "id": "86e9896c",
   "metadata": {},
   "source": [
    "#### m and b both varying: "
   ]
  },
  {
   "cell_type": "code",
   "execution_count": 15,
   "id": "3449cdc7",
   "metadata": {},
   "outputs": [],
   "source": [
    "class GDRegressor:\n",
    "    \n",
    "    def __init__(self, learning_rate, epochs):\n",
    "        self.b = 100\n",
    "        self.m = 1000\n",
    "        self.lr = learning_rate\n",
    "        self.epochs = epochs\n",
    "        \n",
    "    def fit(self, x_train, y_train):\n",
    "        \n",
    "        for i in range(self.epochs):\n",
    "            \n",
    "            # updating b\n",
    "            b_slope = -2*np.sum(y_train - self.m*x_train - self.b)\n",
    "            self.b = self.b - self.lr*b_slope\n",
    "            \n",
    "            # updating m\n",
    "            m_slope = -2*np.dot(np.transpose(x_train), y_train - self.m*x_train - self.b)\n",
    "            self.m = self.m - self.lr*m_slope\n",
    "            \n",
    "        print(f\"b:{self.b}, m:{self.m}\")\n",
    "        \n",
    "    def predict(self, x_test):\n",
    "        return self.m*x_test + self.b"
   ]
  },
  {
   "cell_type": "code",
   "execution_count": 16,
   "id": "6c892e16",
   "metadata": {},
   "outputs": [],
   "source": [
    "gdregressor = GDRegressor(0.001, 1000)"
   ]
  },
  {
   "cell_type": "code",
   "execution_count": 17,
   "id": "23e6cac1",
   "metadata": {},
   "outputs": [
    {
     "name": "stdout",
     "output_type": "stream",
     "text": [
      "b:0.7630782088495331, m:[[5.04435055]]\n"
     ]
    }
   ],
   "source": [
    "gdregressor.fit(x_train, y_train)"
   ]
  },
  {
   "cell_type": "code",
   "execution_count": 18,
   "id": "e2348064",
   "metadata": {},
   "outputs": [],
   "source": [
    "y_pred = gdregressor.predict(x_test)"
   ]
  },
  {
   "cell_type": "code",
   "execution_count": 19,
   "id": "58af5628",
   "metadata": {},
   "outputs": [
    {
     "name": "stdout",
     "output_type": "stream",
     "text": [
      "r2 score: 0.9611624974333134\n"
     ]
    }
   ],
   "source": [
    "print(\"r2 score:\", r2_score(y_test, y_pred))"
   ]
  },
  {
   "cell_type": "code",
   "execution_count": null,
   "id": "d005bd68",
   "metadata": {},
   "outputs": [],
   "source": []
  }
 ],
 "metadata": {
  "kernelspec": {
   "display_name": "Python 3 (ipykernel)",
   "language": "python",
   "name": "python3"
  },
  "language_info": {
   "codemirror_mode": {
    "name": "ipython",
    "version": 3
   },
   "file_extension": ".py",
   "mimetype": "text/x-python",
   "name": "python",
   "nbconvert_exporter": "python",
   "pygments_lexer": "ipython3",
   "version": "3.9.12"
  }
 },
 "nbformat": 4,
 "nbformat_minor": 5
}
