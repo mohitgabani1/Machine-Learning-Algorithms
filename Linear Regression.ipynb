{
 "cells": [
  {
   "cell_type": "code",
   "execution_count": 1,
   "id": "8289dcae",
   "metadata": {},
   "outputs": [],
   "source": [
    "import numpy as np\n",
    "import pandas as pd\n",
    "import matplotlib.pyplot as plt\n",
    "import seaborn as sns"
   ]
  },
  {
   "cell_type": "code",
   "execution_count": 2,
   "id": "0fda4dac",
   "metadata": {},
   "outputs": [],
   "source": [
    "m = 5\n",
    "b = 1\n",
    "x = np.arange(1,5,0.07).reshape(-1,1)\n",
    "y = m*x + b + np.random.randn(x.shape[0]).reshape(-1,1)"
   ]
  },
  {
   "cell_type": "code",
   "execution_count": 3,
   "id": "6a766563",
   "metadata": {},
   "outputs": [
    {
     "name": "stdout",
     "output_type": "stream",
     "text": [
      "(58, 1) (58, 1)\n"
     ]
    }
   ],
   "source": [
    "print(x.shape, y.shape)"
   ]
  },
  {
   "cell_type": "markdown",
   "id": "d929268a",
   "metadata": {},
   "source": [
    "#### Simple Linear Regression: "
   ]
  },
  {
   "cell_type": "code",
   "execution_count": 4,
   "id": "31af1522",
   "metadata": {},
   "outputs": [],
   "source": [
    "from sklearn.linear_model import LinearRegression\n",
    "from sklearn.model_selection import train_test_split"
   ]
  },
  {
   "cell_type": "code",
   "execution_count": 5,
   "id": "3d14c4c4",
   "metadata": {},
   "outputs": [],
   "source": [
    "x_train, x_test, y_train, y_test = train_test_split(x,y,test_size=0.3, random_state=2)"
   ]
  },
  {
   "cell_type": "code",
   "execution_count": 6,
   "id": "c186d2d7",
   "metadata": {},
   "outputs": [],
   "source": [
    "lr = LinearRegression()"
   ]
  },
  {
   "cell_type": "code",
   "execution_count": 7,
   "id": "9e1c1414",
   "metadata": {},
   "outputs": [
    {
     "data": {
      "text/plain": [
       "LinearRegression()"
      ]
     },
     "execution_count": 7,
     "metadata": {},
     "output_type": "execute_result"
    }
   ],
   "source": [
    "lr.fit(x_train,y_train)"
   ]
  },
  {
   "cell_type": "code",
   "execution_count": 8,
   "id": "2e800920",
   "metadata": {},
   "outputs": [
    {
     "name": "stdout",
     "output_type": "stream",
     "text": [
      "[[5.08705396]] [0.43907098]\n"
     ]
    }
   ],
   "source": [
    "print(lr.coef_, lr.intercept_)"
   ]
  },
  {
   "cell_type": "code",
   "execution_count": 9,
   "id": "addf620a",
   "metadata": {},
   "outputs": [
    {
     "data": {
      "text/plain": [
       "array([[25.11128269],\n",
       "       [15.85284448],\n",
       "       [17.98940715],\n",
       "       [21.19425114],\n",
       "       [13.71628182],\n",
       "       [22.26253247],\n",
       "       [15.4967507 ],\n",
       "       [ 5.52612494],\n",
       "       [16.20893826],\n",
       "       [ 5.88221872],\n",
       "       [24.39909514],\n",
       "       [20.48206359],\n",
       "       [ 8.73096894],\n",
       "       [ 9.08706271],\n",
       "       [10.15534405],\n",
       "       [15.14065693],\n",
       "       [24.75518891],\n",
       "       [18.34550092]])"
      ]
     },
     "execution_count": 9,
     "metadata": {},
     "output_type": "execute_result"
    }
   ],
   "source": [
    "y_pred = lr.predict(x_test)\n",
    "y_pred"
   ]
  },
  {
   "cell_type": "code",
   "execution_count": 10,
   "id": "8d3fc5bc",
   "metadata": {},
   "outputs": [],
   "source": [
    "from sklearn.metrics import r2_score"
   ]
  },
  {
   "cell_type": "code",
   "execution_count": 11,
   "id": "f02e4bdd",
   "metadata": {},
   "outputs": [
    {
     "name": "stdout",
     "output_type": "stream",
     "text": [
      "r2 score: 0.9727992204317472\n"
     ]
    }
   ],
   "source": [
    "print(\"r2 score:\", r2_score(y_test, y_pred))"
   ]
  },
  {
   "cell_type": "code",
   "execution_count": 12,
   "id": "d6490db8",
   "metadata": {},
   "outputs": [
    {
     "data": {
      "text/plain": [
       "[<matplotlib.lines.Line2D at 0x1ba559a0d30>]"
      ]
     },
     "execution_count": 12,
     "metadata": {},
     "output_type": "execute_result"
    },
    {
     "data": {
      "image/png": "[encoded data removed]",
      "text/plain": [
       "<Figure size 432x288 with 1 Axes>"
      ]
     },
     "metadata": {
      "needs_background": "light"
     },
     "output_type": "display_data"
    }
   ],
   "source": [
    "plt.scatter(x,y)\n",
    "plt.plot(x_test, y_pred, c=\"r\")"
   ]
  },
  {
   "cell_type": "markdown",
   "id": "12aa5281",
   "metadata": {},
   "source": [
    "#### Linear Regression class: "
   ]
  },
  {
   "cell_type": "code",
   "execution_count": 13,
   "id": "6e56fcc7",
   "metadata": {},
   "outputs": [],
   "source": [
    "class Lr:\n",
    "    def __init__(self):\n",
    "        \n",
    "        self.m = None\n",
    "        self.b = None\n",
    "        \n",
    "    def fit(self,x_train,y_train):\n",
    "        \n",
    "        # calculating m and b\n",
    "        num = np.sum((y_train - np.mean(y_train))*(x_train - np.mean(x_train)))\n",
    "        den = np.sum((x_train - np.mean(x_train))**2)\n",
    "        self.m = num/den\n",
    "        self.b = np.mean(y_train) - self.m*np.mean(x_train)\n",
    "        \n",
    "    def predict(self, x_test):\n",
    "        return self.m*x_test + self.b"
   ]
  },
  {
   "cell_type": "code",
   "execution_count": 14,
   "id": "9ccdfa2d",
   "metadata": {},
   "outputs": [],
   "source": [
    "linear = Lr()"
   ]
  },
  {
   "cell_type": "code",
   "execution_count": 15,
   "id": "8d356a78",
   "metadata": {},
   "outputs": [],
   "source": [
    "linear.fit(x_train, y_train)"
   ]
  },
  {
   "cell_type": "code",
   "execution_count": 16,
   "id": "226f1d55",
   "metadata": {},
   "outputs": [],
   "source": [
    "y_predict = linear.predict(x_test)"
   ]
  },
  {
   "cell_type": "code",
   "execution_count": 17,
   "id": "1a4deee7",
   "metadata": {},
   "outputs": [
    {
     "name": "stdout",
     "output_type": "stream",
     "text": [
      "r2 score: 0.9727992204317472\n"
     ]
    }
   ],
   "source": [
    "print(\"r2 score:\", r2_score(y_test, y_predict))"
   ]
  }
 ],
 "metadata": {
  "kernelspec": {
   "display_name": "Python 3 (ipykernel)",
   "language": "python",
   "name": "python3"
  },
  "language_info": {
   "codemirror_mode": {
    "name": "ipython",
    "version": 3
   },
   "file_extension": ".py",
   "mimetype": "text/x-python",
   "name": "python",
   "nbconvert_exporter": "python",
   "pygments_lexer": "ipython3",
   "version": "3.9.12"
  }
 },
 "nbformat": 4,
 "nbformat_minor": 5
}
