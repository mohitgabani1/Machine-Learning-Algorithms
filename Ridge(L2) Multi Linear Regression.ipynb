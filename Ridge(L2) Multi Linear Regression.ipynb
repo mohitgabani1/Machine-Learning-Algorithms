{
 "cells": [
  {
   "cell_type": "code",
   "execution_count": 1,
   "id": "e365df74",
   "metadata": {},
   "outputs": [],
   "source": [
    "import numpy as np\n",
    "import pandas as pd\n",
    "import matplotlib.pyplot as plt\n",
    "import seaborn as sns\n",
    "from sklearn.datasets import make_regression"
   ]
  },
  {
   "cell_type": "markdown",
   "id": "ad20442a",
   "metadata": {},
   "source": [
    "#### Generated Dataset for regression: "
   ]
  },
  {
   "cell_type": "code",
   "execution_count": 2,
   "id": "fbc53f4e",
   "metadata": {},
   "outputs": [],
   "source": [
    "X, y = make_regression(n_samples = 500, n_features = 10, n_targets = 1, n_informative = 8, noise = 100)"
   ]
  },
  {
   "cell_type": "code",
   "execution_count": 3,
   "id": "37bd49bc",
   "metadata": {},
   "outputs": [],
   "source": [
    "from sklearn.model_selection import train_test_split\n",
    "\n",
    "X_train, X_test, y_train, y_test = train_test_split(X, y, test_size = 0.2)"
   ]
  },
  {
   "cell_type": "markdown",
   "id": "a78c5c86",
   "metadata": {},
   "source": [
    "#### Linear Regression: "
   ]
  },
  {
   "cell_type": "code",
   "execution_count": 4,
   "id": "4962411e",
   "metadata": {},
   "outputs": [],
   "source": [
    "from sklearn.linear_model import LinearRegression"
   ]
  },
  {
   "cell_type": "code",
   "execution_count": 5,
   "id": "3263e116",
   "metadata": {},
   "outputs": [],
   "source": [
    "lr = LinearRegression()"
   ]
  },
  {
   "cell_type": "code",
   "execution_count": 6,
   "id": "dc1e6a26",
   "metadata": {},
   "outputs": [
    {
     "data": {
      "text/plain": [
       "LinearRegression()"
      ]
     },
     "execution_count": 6,
     "metadata": {},
     "output_type": "execute_result"
    }
   ],
   "source": [
    "lr.fit(X_train, y_train)"
   ]
  },
  {
   "cell_type": "code",
   "execution_count": 7,
   "id": "79379b81",
   "metadata": {},
   "outputs": [],
   "source": [
    "y_pred = lr.predict(X_test)"
   ]
  },
  {
   "cell_type": "code",
   "execution_count": 8,
   "id": "2ee835f5",
   "metadata": {},
   "outputs": [
    {
     "data": {
      "text/plain": [
       "0.7308255381781528"
      ]
     },
     "execution_count": 8,
     "metadata": {},
     "output_type": "execute_result"
    }
   ],
   "source": [
    "from sklearn.metrics import r2_score\n",
    "\n",
    "r2_score(y_test, y_pred)"
   ]
  },
  {
   "cell_type": "markdown",
   "id": "9772b35a",
   "metadata": {},
   "source": [
    "#### Ridge(L2) Regression: scikit learn class"
   ]
  },
  {
   "cell_type": "code",
   "execution_count": 9,
   "id": "bbdf4104",
   "metadata": {},
   "outputs": [],
   "source": [
    "from sklearn.linear_model import Ridge"
   ]
  },
  {
   "cell_type": "code",
   "execution_count": 10,
   "id": "2fa9e4d7",
   "metadata": {},
   "outputs": [],
   "source": [
    "lr_ridge = Ridge(0.1)"
   ]
  },
  {
   "cell_type": "code",
   "execution_count": 11,
   "id": "57b8047a",
   "metadata": {},
   "outputs": [
    {
     "data": {
      "text/plain": [
       "Ridge(alpha=0.1)"
      ]
     },
     "execution_count": 11,
     "metadata": {},
     "output_type": "execute_result"
    }
   ],
   "source": [
    "lr_ridge.fit(X_train, y_train)"
   ]
  },
  {
   "cell_type": "code",
   "execution_count": 12,
   "id": "7e16e8c3",
   "metadata": {},
   "outputs": [],
   "source": [
    "y_pred_ridge = lr_ridge.predict(X_test)"
   ]
  },
  {
   "cell_type": "code",
   "execution_count": 13,
   "id": "2842bea8",
   "metadata": {},
   "outputs": [
    {
     "data": {
      "text/plain": [
       "0.7308238169857497"
      ]
     },
     "execution_count": 13,
     "metadata": {},
     "output_type": "execute_result"
    }
   ],
   "source": [
    "r2_score(y_test, y_pred_ridge)"
   ]
  },
  {
   "cell_type": "code",
   "execution_count": 14,
   "id": "f37af36e",
   "metadata": {},
   "outputs": [
    {
     "data": {
      "text/plain": [
       "array([ 57.69145265,  12.24150567,  -0.97862169,  52.51811923,\n",
       "        59.58548939,  78.67558669,  51.54970896, 105.20478754,\n",
       "        26.62388969,  52.36723039])"
      ]
     },
     "execution_count": 14,
     "metadata": {},
     "output_type": "execute_result"
    }
   ],
   "source": [
    "lr.coef_"
   ]
  },
  {
   "cell_type": "code",
   "execution_count": 15,
   "id": "4762fbd3",
   "metadata": {},
   "outputs": [
    {
     "data": {
      "text/plain": [
       "8.899072689179388"
      ]
     },
     "execution_count": 15,
     "metadata": {},
     "output_type": "execute_result"
    }
   ],
   "source": [
    "lr.intercept_"
   ]
  },
  {
   "cell_type": "markdown",
   "id": "3d9ec29f",
   "metadata": {},
   "source": [
    "#### Ridge(L2) Muti Linear Regression class: "
   ]
  },
  {
   "cell_type": "code",
   "execution_count": 16,
   "id": "6934fb6f",
   "metadata": {},
   "outputs": [],
   "source": [
    "class RidgeMLR:\n",
    "    \n",
    "    def __init__(self, alpha):\n",
    "        \n",
    "        self.alpha = alpha\n",
    "        self.coeff = None\n",
    "        self.intercept = None\n",
    "        \n",
    "    def fit(self, x_train, y_train):\n",
    "        \n",
    "        # creating identity matrix:\n",
    "        x_train = np.insert(x_train,0,1,1)\n",
    "        unit_matrix = np.eye(x_train.shape[1])\n",
    "        betas = np.dot(np.transpose(y_train), x_train).dot(np.linalg.inv(np.dot(np.transpose(x_train),x_train) + self.alpha*unit_matrix))\n",
    "        self.intercept = betas[0]\n",
    "        self.coeff = betas[1:]\n",
    "        print(self.intercept)\n",
    "        print(self.coeff)\n",
    "        \n",
    "    def predict(self, x_test):\n",
    "        return np.dot(x_test, self.coeff) + self.intercept"
   ]
  },
  {
   "cell_type": "code",
   "execution_count": 17,
   "id": "4fc924df",
   "metadata": {},
   "outputs": [],
   "source": [
    "lr_ridge_class = RidgeMLR(0.1)"
   ]
  },
  {
   "cell_type": "code",
   "execution_count": 18,
   "id": "71efa064",
   "metadata": {
    "scrolled": false
   },
   "outputs": [
    {
     "name": "stdout",
     "output_type": "stream",
     "text": [
      "8.896147669778026\n",
      "[ 57.67617094  12.23994561  -0.97926125  52.50696567  59.5716923\n",
      "  78.65392694  51.54070327 105.1797406   26.61967891  52.35556757]\n"
     ]
    }
   ],
   "source": [
    "lr_ridge_class.fit(X_train, y_train)"
   ]
  },
  {
   "cell_type": "code",
   "execution_count": 19,
   "id": "bf26e08b",
   "metadata": {},
   "outputs": [],
   "source": [
    "y_pred_ridge_class = lr_ridge_class.predict(X_test)"
   ]
  },
  {
   "cell_type": "code",
   "execution_count": 20,
   "id": "83c2ad49",
   "metadata": {},
   "outputs": [
    {
     "data": {
      "text/plain": [
       "0.7308241710347635"
      ]
     },
     "execution_count": 20,
     "metadata": {},
     "output_type": "execute_result"
    }
   ],
   "source": [
    "r2_score(y_test, y_pred_ridge_class)"
   ]
  }
 ],
 "metadata": {
  "kernelspec": {
   "display_name": "Python 3 (ipykernel)",
   "language": "python",
   "name": "python3"
  },
  "language_info": {
   "codemirror_mode": {
    "name": "ipython",
    "version": 3
   },
   "file_extension": ".py",
   "mimetype": "text/x-python",
   "name": "python",
   "nbconvert_exporter": "python",
   "pygments_lexer": "ipython3",
   "version": "3.9.12"
  }
 },
 "nbformat": 4,
 "nbformat_minor": 5
}
