{
 "cells": [
  {
   "cell_type": "code",
   "execution_count": 1,
   "id": "954e6db5",
   "metadata": {},
   "outputs": [],
   "source": [
    "import numpy as np\n",
    "import pandas as pd\n",
    "import matplotlib.pyplot as plt\n",
    "import seaborn as sns"
   ]
  },
  {
   "cell_type": "code",
   "execution_count": 2,
   "id": "e1a6cab4",
   "metadata": {},
   "outputs": [],
   "source": [
    "from sklearn.datasets import load_diabetes"
   ]
  },
  {
   "cell_type": "code",
   "execution_count": 3,
   "id": "1f47ad15",
   "metadata": {},
   "outputs": [],
   "source": [
    "X, y = load_diabetes(return_X_y = True)"
   ]
  },
  {
   "cell_type": "markdown",
   "id": "c5dfc57b",
   "metadata": {},
   "source": [
    "#### GDMLR: "
   ]
  },
  {
   "cell_type": "code",
   "execution_count": 4,
   "id": "1efb5eec",
   "metadata": {},
   "outputs": [],
   "source": [
    "from sklearn.linear_model import LinearRegression\n",
    "from sklearn.model_selection import train_test_split"
   ]
  },
  {
   "cell_type": "code",
   "execution_count": 5,
   "id": "fef59c2b",
   "metadata": {},
   "outputs": [],
   "source": [
    "x_train, x_test, y_train, y_test = train_test_split(X,y,test_size=0.2, random_state=2)"
   ]
  },
  {
   "cell_type": "code",
   "execution_count": 6,
   "id": "508ac7ac",
   "metadata": {},
   "outputs": [],
   "source": [
    "lr = LinearRegression()"
   ]
  },
  {
   "cell_type": "code",
   "execution_count": 7,
   "id": "6c1ffac9",
   "metadata": {},
   "outputs": [],
   "source": [
    "lr.fit(x_train, y_train)\n",
    "y_pred = lr.predict(x_test)"
   ]
  },
  {
   "cell_type": "code",
   "execution_count": 8,
   "id": "bd849d1d",
   "metadata": {},
   "outputs": [
    {
     "name": "stdout",
     "output_type": "stream",
     "text": [
      "[  -9.16088483 -205.46225988  516.68462383  340.62734108 -895.54360867\n",
      "  561.21453306  153.88478595  126.73431596  861.12139955   52.41982836] 151.88334520854633\n"
     ]
    }
   ],
   "source": [
    "print(lr.coef_, lr.intercept_)"
   ]
  },
  {
   "cell_type": "code",
   "execution_count": 9,
   "id": "f8c0a697",
   "metadata": {},
   "outputs": [
    {
     "name": "stdout",
     "output_type": "stream",
     "text": [
      "r2 score: 0.4399387660024645\n"
     ]
    }
   ],
   "source": [
    "from sklearn.metrics import r2_score\n",
    "\n",
    "print(\"r2 score:\", r2_score(y_test,y_pred))"
   ]
  },
  {
   "cell_type": "markdown",
   "id": "ce544c09",
   "metadata": {},
   "source": [
    "#### GDMLR Class: "
   ]
  },
  {
   "cell_type": "code",
   "execution_count": 10,
   "id": "51516d65",
   "metadata": {},
   "outputs": [],
   "source": [
    "class Gdmlr:\n",
    "    \n",
    "    def __init__(self,learning_rate, epochs):\n",
    "        \n",
    "        self.lr = learning_rate\n",
    "        self.epochs = epochs\n",
    "        self.coeff = None\n",
    "        self.intercept = None\n",
    "        \n",
    "    def fit(self, x_train, y_train):\n",
    "        \n",
    "        self.intercept = 0\n",
    "        self.coeff = np.ones(x_train.shape[1])\n",
    "        \n",
    "        for i in range(self.epochs):\n",
    "            \n",
    "            # updating intercept value\n",
    "            y_hat = np.dot(x_train,self.coeff) + self.intercept\n",
    "            intercept_slope = (-2/x_train.shape[0])*np.sum(y_train - y_hat)\n",
    "            self.intercept = self.intercept - self.lr*intercept_slope\n",
    "            \n",
    "            # updating coefficients values\n",
    "            coeff_slope = (-2/x_train.shape[0])*np.dot((y_train - y_hat),x_train)\n",
    "            self.coeff = self.coeff - self.lr*coeff_slope\n",
    "        \n",
    "        print(self.intercept, self.coeff)\n",
    "\n",
    "    def predict(self, x_test):\n",
    "        return self.intercept + np.dot(x_test,self.coeff)"
   ]
  },
  {
   "cell_type": "code",
   "execution_count": 11,
   "id": "d3a0acbc",
   "metadata": {},
   "outputs": [],
   "source": [
    "gdmlr = Gdmlr(learning_rate=0.5,epochs=1000)"
   ]
  },
  {
   "cell_type": "code",
   "execution_count": 12,
   "id": "e7821e8f",
   "metadata": {},
   "outputs": [
    {
     "name": "stdout",
     "output_type": "stream",
     "text": [
      "152.0135263267291 [  14.38915082 -173.72674118  491.54504015  323.91983579  -39.32680194\n",
      " -116.01099114 -194.04229501  103.38216641  451.63385893   97.57119174]\n"
     ]
    }
   ],
   "source": [
    "gdmlr.fit(x_train, y_train)"
   ]
  },
  {
   "cell_type": "code",
   "execution_count": 13,
   "id": "3348634d",
   "metadata": {},
   "outputs": [],
   "source": [
    "y_predict = gdmlr.predict(x_test)"
   ]
  },
  {
   "cell_type": "code",
   "execution_count": 14,
   "id": "aa56bf90",
   "metadata": {},
   "outputs": [
    {
     "name": "stdout",
     "output_type": "stream",
     "text": [
      "r2 score: 0.4534524671450598\n"
     ]
    }
   ],
   "source": [
    "print(\"r2 score:\", r2_score(y_test, y_predict))"
   ]
  }
 ],
 "metadata": {
  "kernelspec": {
   "display_name": "Python 3 (ipykernel)",
   "language": "python",
   "name": "python3"
  },
  "language_info": {
   "codemirror_mode": {
    "name": "ipython",
    "version": 3
   },
   "file_extension": ".py",
   "mimetype": "text/x-python",
   "name": "python",
   "nbconvert_exporter": "python",
   "pygments_lexer": "ipython3",
   "version": "3.9.12"
  }
 },
 "nbformat": 4,
 "nbformat_minor": 5
}
