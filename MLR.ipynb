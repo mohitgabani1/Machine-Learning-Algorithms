{
 "cells": [
  {
   "cell_type": "code",
   "execution_count": 1,
   "id": "ced555ef",
   "metadata": {},
   "outputs": [],
   "source": [
    "import numpy as np\n",
    "import pandas as pd\n",
    "import matplotlib.pyplot as plt\n",
    "import seaborn as sns"
   ]
  },
  {
   "cell_type": "code",
   "execution_count": 2,
   "id": "f84389a7",
   "metadata": {},
   "outputs": [],
   "source": [
    "from sklearn.datasets import load_diabetes\n",
    "X,y = load_diabetes(return_X_y = True)"
   ]
  },
  {
   "cell_type": "code",
   "execution_count": 3,
   "id": "10e2f229",
   "metadata": {},
   "outputs": [],
   "source": [
    "from sklearn.model_selection import train_test_split\n",
    "x_train, x_test, y_train, y_test = train_test_split(X, y,test_size = 0.2, random_state = 2)"
   ]
  },
  {
   "cell_type": "markdown",
   "id": "75445034",
   "metadata": {},
   "source": [
    "#### Multi-Linear Regression: "
   ]
  },
  {
   "cell_type": "code",
   "execution_count": 4,
   "id": "12ae1ec9",
   "metadata": {},
   "outputs": [],
   "source": [
    "from sklearn.linear_model import LinearRegression\n",
    "\n",
    "lr = LinearRegression()"
   ]
  },
  {
   "cell_type": "code",
   "execution_count": 5,
   "id": "7340348f",
   "metadata": {},
   "outputs": [],
   "source": [
    "lr.fit(x_train, y_train)\n",
    "y_pred = lr.predict(x_test)"
   ]
  },
  {
   "cell_type": "code",
   "execution_count": 6,
   "id": "cdb5939a",
   "metadata": {},
   "outputs": [
    {
     "name": "stdout",
     "output_type": "stream",
     "text": [
      "[  -9.16088483 -205.46225988  516.68462383  340.62734108 -895.54360867\n",
      "  561.21453306  153.88478595  126.73431596  861.12139955   52.41982836]\n",
      "151.88334520854633\n"
     ]
    }
   ],
   "source": [
    "print(lr.coef_)\n",
    "print(lr.intercept_)"
   ]
  },
  {
   "cell_type": "code",
   "execution_count": 7,
   "id": "3e7b0685",
   "metadata": {},
   "outputs": [
    {
     "name": "stdout",
     "output_type": "stream",
     "text": [
      "r2 score: 0.4399387660024645\n"
     ]
    }
   ],
   "source": [
    "from sklearn.metrics import r2_score\n",
    "\n",
    "print(\"r2 score:\", r2_score(y_test,y_pred))"
   ]
  },
  {
   "cell_type": "markdown",
   "id": "d29d5b29",
   "metadata": {},
   "source": [
    "#### Multi-Linear Regression Class: "
   ]
  },
  {
   "cell_type": "code",
   "execution_count": 13,
   "id": "1cf15a60",
   "metadata": {},
   "outputs": [],
   "source": [
    "class MLR:\n",
    "    \n",
    "    def _inti__(self):\n",
    "        \n",
    "        self.coeff = None\n",
    "        self.intercept = None\n",
    "        \n",
    "    def fit(self, x_train, y_train):\n",
    "        \n",
    "        # inserting 1 as first element in x_train\n",
    "        x_train = np.insert(x_train,0,1,1)\n",
    "        betas = np.linalg.inv(np.dot(np.transpose(x_train),x_train)).dot(np.dot(np.transpose(x_train),y_train))\n",
    "        self.intercept = betas[0]\n",
    "        self.coeff = betas[1:]\n",
    "        print(self.intercept)\n",
    "        print(self.coeff)\n",
    "    \n",
    "    def predict(self, x_test):\n",
    "        return np.dot(x_test,self.coeff) + self.intercept"
   ]
  },
  {
   "cell_type": "code",
   "execution_count": 14,
   "id": "6b694c34",
   "metadata": {},
   "outputs": [],
   "source": [
    "mlr = MLR()"
   ]
  },
  {
   "cell_type": "code",
   "execution_count": 15,
   "id": "cb1c8d55",
   "metadata": {},
   "outputs": [
    {
     "name": "stdout",
     "output_type": "stream",
     "text": [
      "151.88334520854636\n",
      "[  -9.16088483 -205.46225988  516.68462383  340.62734108 -895.54360867\n",
      "  561.21453306  153.88478595  126.73431596  861.12139955   52.41982836]\n"
     ]
    }
   ],
   "source": [
    "mlr.fit(x_train, y_train)"
   ]
  },
  {
   "cell_type": "code",
   "execution_count": 16,
   "id": "cd674d69",
   "metadata": {},
   "outputs": [],
   "source": [
    "y_predict = mlr.predict(x_test)"
   ]
  },
  {
   "cell_type": "code",
   "execution_count": 17,
   "id": "43448356",
   "metadata": {},
   "outputs": [
    {
     "name": "stdout",
     "output_type": "stream",
     "text": [
      "r2 score: 0.4399387660024646\n"
     ]
    }
   ],
   "source": [
    "print(\"r2 score:\", r2_score(y_test, y_predict))"
   ]
  },
  {
   "cell_type": "code",
   "execution_count": null,
   "id": "407d258b",
   "metadata": {},
   "outputs": [],
   "source": []
  }
 ],
 "metadata": {
  "kernelspec": {
   "display_name": "Python 3 (ipykernel)",
   "language": "python",
   "name": "python3"
  },
  "language_info": {
   "codemirror_mode": {
    "name": "ipython",
    "version": 3
   },
   "file_extension": ".py",
   "mimetype": "text/x-python",
   "name": "python",
   "nbconvert_exporter": "python",
   "pygments_lexer": "ipython3",
   "version": "3.9.12"
  }
 },
 "nbformat": 4,
 "nbformat_minor": 5
}
